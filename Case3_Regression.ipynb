{
 "cells": [
  {
   "cell_type": "code",
   "execution_count": 218,
   "metadata": {},
   "outputs": [],
   "source": [
    "#Data_Preparation\n",
    "\n",
    "import numpy as np\n",
    "import pandas as pd\n",
    "from sklearn.model_selection import train_test_split\n",
    "\n",
    "def data_prep():\n",
    "    \n",
    "    #import dataset\n",
    "    df = pd.read_csv('D2.csv')\n",
    "    \n",
    "    #change to integer type\n",
    "    df['alcohol'] = df['alcohol'].round().astype(int)\n",
    "    df['contacts_count'] = df['contacts_count'].round().astype(int)\n",
    "    df['house_count'] = df['house_count'].round().astype(int) \n",
    "    \n",
    "    #change to categorical \n",
    "    age_map = {'30_40':4 ,'70_80':8, '50_60':6, '20_30':3, '60_70':7, '40_50':5, \n",
    "               '80_90':9,'90_100':10, '10_20':2,'0_10':1, '100_110':11}\n",
    "    df['age'] = df['age'].map(age_map)    \n",
    "    \n",
    "    #change to binary\n",
    "    insurance_map = {'yes':1, 'no':0}\n",
    "    df['insurance'] = df['insurance'].map(insurance_map)\n",
    "    immigrant_map = {'native':0, 'immigrant':1}\n",
    "    df['immigrant'] = df['immigrant'].map(immigrant_map)\n",
    "    \n",
    "    #remove blood type\n",
    "    df.drop(['blood_type'], axis=1, inplace=True)\n",
    "    \n",
    "    #one-hot encoding\n",
    "    df = pd.get_dummies(df)\n",
    "    \n",
    "    #setting random state\n",
    "    rs=10\n",
    "    \n",
    "    y = df['covid19_positive']\n",
    "    X = df.drop(['covid19_positive'],axis=1)\n",
    "    \n",
    "    X_mat = X.to_numpy()\n",
    "    X_train,X_test,y_train,y_test = train_test_split(X_mat,y,test_size=0.3,stratify=y,random_state=rs)\n",
    "    \n",
    "    return df,X,y,X_train,X_test,y_train,y_test"
   ]
  },
  {
   "cell_type": "code",
   "execution_count": 219,
   "metadata": {},
   "outputs": [
    {
     "name": "stdout",
     "output_type": "stream",
     "text": [
      "<class 'pandas.core.frame.DataFrame'>\n",
      "RangeIndex: 6110 entries, 0 to 6109\n",
      "Data columns (total 36 columns):\n",
      "age                            6110 non-null int64\n",
      "height                         6110 non-null int64\n",
      "weight                         6110 non-null int64\n",
      "insurance                      6110 non-null int64\n",
      "immigrant                      6110 non-null int64\n",
      "alcohol                        6110 non-null int32\n",
      "contacts_count                 6110 non-null int32\n",
      "house_count                    6110 non-null int32\n",
      "worried                        6110 non-null int64\n",
      "covid19_positive               6110 non-null int64\n",
      "gender_female                  6110 non-null uint8\n",
      "gender_male                    6110 non-null uint8\n",
      "gender_other                   6110 non-null uint8\n",
      "income_gov                     6110 non-null uint8\n",
      "income_high                    6110 non-null uint8\n",
      "income_low                     6110 non-null uint8\n",
      "income_med                     6110 non-null uint8\n",
      "race_asian                     6110 non-null uint8\n",
      "race_black                     6110 non-null uint8\n",
      "race_hispanic                  6110 non-null uint8\n",
      "race_mixed                     6110 non-null uint8\n",
      "race_other                     6110 non-null uint8\n",
      "race_white                     6110 non-null uint8\n",
      "smoking_never                  6110 non-null uint8\n",
      "smoking_quit0                  6110 non-null uint8\n",
      "smoking_quit10                 6110 non-null uint8\n",
      "smoking_quit5                  6110 non-null uint8\n",
      "smoking_vape                   6110 non-null uint8\n",
      "smoking_yesheavy               6110 non-null uint8\n",
      "smoking_yeslight               6110 non-null uint8\n",
      "smoking_yesmedium              6110 non-null uint8\n",
      "working_home                   6110 non-null uint8\n",
      "working_never                  6110 non-null uint8\n",
      "working_stopped                6110 non-null uint8\n",
      "working_travel critical        6110 non-null uint8\n",
      "working_travel non critical    6110 non-null uint8\n",
      "dtypes: int32(3), int64(7), uint8(26)\n",
      "memory usage: 561.0 KB\n"
     ]
    }
   ],
   "source": [
    "df,X,y,X_train,X_test,y_train,y_test = data_prep()\n",
    "rs = 10\n",
    "df.info()"
   ]
  },
  {
   "cell_type": "code",
   "execution_count": 220,
   "metadata": {},
   "outputs": [
    {
     "name": "stdout",
     "output_type": "stream",
     "text": [
      "Before scaling\n",
      "--------------------\n",
      "Variable #0: min1, max11, mean5.14 and std dev1.82\n",
      "Variable #1: min110, max238, mean171.82 and std dev10.95\n",
      "Variable #2: min44, max180, mean84.45 and std dev23.93\n",
      "Variable #3: min0, max1, mean0.89 and std dev0.31\n",
      "Variable #4: min0, max1, mean0.10 and std dev0.31\n",
      "After scaling\n",
      "------------------\n",
      "Variable #0: min-2.282714205783765, max3.225109701548494, mean-0.00 and std dev1.00\n",
      "Variable #1: min-5.646019606867985, max6.04457824596458, mean-0.00 and std dev1.00\n",
      "Variable #2: min-1.6903772697732775, max3.992266536727259, mean-0.00 and std dev1.00\n",
      "Variable #3: min-2.905426148390667, max0.34418358923142583, mean0.00 and std dev1.00\n",
      "Variable #4: min-0.3403471164356589, max2.9381767957159473, mean0.00 and std dev1.00\n"
     ]
    }
   ],
   "source": [
    "#Standaridisation\n",
    "from sklearn.preprocessing import StandardScaler\n",
    "\n",
    "scaler = StandardScaler()\n",
    "\n",
    "print(\"Before scaling\\n--------------------\")\n",
    "for i in range(5):\n",
    "    col = X_train[:,i]\n",
    "    print(\"Variable #{}: min{}, max{}, mean{:.2f} and std dev{:.2f}\".\n",
    "          format(i,min(col),max(col),np.mean(col),np.std(col)))\n",
    "\n",
    "X_train = scaler.fit_transform(X_train,y_train)\n",
    "\n",
    "print(\"After scaling\\n------------------\")\n",
    "for i in range(5):\n",
    "    col = X_train[:,i]\n",
    "    print(\"Variable #{}: min{}, max{}, mean{:.2f} and std dev{:.2f}\".\n",
    "          format(i,min(col),max(col),np.mean(col),np.std(col)))\n",
    "    \n",
    "X_test = scaler.transform(X_test)"
   ]
  },
  {
   "cell_type": "code",
   "execution_count": 221,
   "metadata": {},
   "outputs": [
    {
     "data": {
      "text/plain": [
       "LogisticRegression(random_state=10)"
      ]
     },
     "execution_count": 221,
     "metadata": {},
     "output_type": "execute_result"
    }
   ],
   "source": [
    "#Logstic regression\n",
    "from sklearn.linear_model import LogisticRegression\n",
    "\n",
    "model = LogisticRegression(random_state=rs)\n",
    "model.fit(X_train,y_train)\n"
   ]
  },
  {
   "cell_type": "code",
   "execution_count": 222,
   "metadata": {},
   "outputs": [
    {
     "name": "stdout",
     "output_type": "stream",
     "text": [
      "Train accuracy: 0.6841243862520459\n",
      "Test accuracy: 0.6868521549372614\n",
      "              precision    recall  f1-score   support\n",
      "\n",
      "           0       0.71      0.77      0.74      1070\n",
      "           1       0.64      0.57      0.60       763\n",
      "\n",
      "    accuracy                           0.69      1833\n",
      "   macro avg       0.68      0.67      0.67      1833\n",
      "weighted avg       0.68      0.69      0.68      1833\n",
      "\n"
     ]
    }
   ],
   "source": [
    "#training and test accuracy\n",
    "from sklearn.metrics import classification_report,accuracy_score\n",
    "\n",
    "print(\"Train accuracy:\",model.score(X_train,y_train))\n",
    "print(\"Test accuracy:\",model.score(X_test,y_test))\n",
    "\n",
    "y_pred = model.predict(X_test)\n",
    "print(classification_report(y_test,y_pred))\n"
   ]
  },
  {
   "cell_type": "code",
   "execution_count": 223,
   "metadata": {
    "scrolled": true
   },
   "outputs": [
    {
     "name": "stdout",
     "output_type": "stream",
     "text": [
      "age : -0.012767091547518072\n",
      "height : -0.23661372710322431\n",
      "weight : 0.2874884464731233\n",
      "insurance : 0.13601316112067763\n",
      "immigrant : -0.1386928273691582\n",
      "alcohol : 0.006717829645060627\n",
      "contacts_count : -0.009457212932557317\n",
      "house_count : 0.2691816133179407\n",
      "worried : 0.10488840752114385\n",
      "gender_female : -0.0644556777895791\n",
      "gender_male : 0.05699910916288844\n",
      "gender_other : 0.07696770279026215\n",
      "income_gov : 0.061051319582899166\n",
      "income_high : -0.3666471863007343\n",
      "income_low : 0.01774310519993163\n",
      "income_med : 0.3235550910968556\n",
      "race_asian : -0.0658340222407681\n",
      "race_black : -0.007875213153456457\n",
      "race_hispanic : 0.017080197698885486\n",
      "race_mixed : 0.004472249840197184\n",
      "race_other : 0.026380752716544793\n",
      "race_white : 0.023610949887554307\n",
      "smoking_never : -0.030355288596793054\n",
      "smoking_quit0 : 0.027439098243703372\n",
      "smoking_quit10 : 0.007342541764017042\n",
      "smoking_quit5 : -0.04148527044309941\n",
      "smoking_vape : 0.019901447804746817\n",
      "smoking_yesheavy : 0.0039295066799503574\n",
      "smoking_yeslight : 0.01158539183977317\n",
      "smoking_yesmedium : 0.05738210863932158\n",
      "working_home : -0.1001202435748289\n",
      "working_never : 0.01686280980607104\n",
      "working_stopped : -0.044109190177310395\n",
      "working_travel critical : 0.16490628126974896\n",
      "working_travel non critical : -0.0910055186828215\n"
     ]
    }
   ],
   "source": [
    "feature_names = X.columns\n",
    "coef = model.coef_[0]\n",
    "\n",
    "for i in range(len(coef)):\n",
    "    print(feature_names[i],':',coef[i])"
   ]
  },
  {
   "cell_type": "code",
   "execution_count": 224,
   "metadata": {},
   "outputs": [
    {
     "name": "stdout",
     "output_type": "stream",
     "text": [
      "income_high i -0.3666471863007343\n",
      "income_med i 0.3235550910968556\n",
      "weight i 0.2874884464731233\n",
      "house_count i 0.2691816133179407\n",
      "height i -0.23661372710322431\n",
      "working_travel critical i 0.16490628126974896\n",
      "immigrant i -0.1386928273691582\n",
      "insurance i 0.13601316112067763\n",
      "worried i 0.10488840752114385\n",
      "working_home i -0.1001202435748289\n",
      "working_travel non critical i -0.0910055186828215\n",
      "gender_other i 0.07696770279026215\n",
      "race_asian i -0.0658340222407681\n",
      "gender_female i -0.0644556777895791\n",
      "income_gov i 0.061051319582899166\n",
      "smoking_yesmedium i 0.05738210863932158\n",
      "gender_male i 0.05699910916288844\n",
      "working_stopped i -0.044109190177310395\n",
      "smoking_quit5 i -0.04148527044309941\n",
      "smoking_never i -0.030355288596793054\n"
     ]
    }
   ],
   "source": [
    "feature_names = X.columns\n",
    "coef = model.coef_[0]\n",
    "\n",
    "indices = np.argsort(np.absolute(coef))\n",
    "indices = np.flip(indices,axis=0)\n",
    "\n",
    "indices = indices[:20]\n",
    "\n",
    "for i in indices :\n",
    "    print(feature_names[i],'i',coef[i])\n"
   ]
  },
  {
   "cell_type": "code",
   "execution_count": 225,
   "metadata": {},
   "outputs": [
    {
     "data": {
      "text/plain": [
       "GridSearchCV(cv=10, estimator=LogisticRegression(random_state=10), n_jobs=-1,\n",
       "             param_grid={'C': [1e-06, 1e-05, 0.0001, 0.001, 0.01, 0.1, 1, 10,\n",
       "                               100, 1000]},\n",
       "             return_train_score=True)"
      ]
     },
     "execution_count": 225,
     "metadata": {},
     "output_type": "execute_result"
    }
   ],
   "source": [
    "#grid search CV\n",
    "from sklearn.model_selection import GridSearchCV\n",
    "\n",
    "params = {'C':[pow(10,x) for x in range(-6,4)]}\n",
    "\n",
    "cv = GridSearchCV(param_grid=params,estimator=LogisticRegression(random_state=rs),return_train_score=True,cv=10,n_jobs=-1)\n",
    "cv.fit(X_train,y_train)"
   ]
  },
  {
   "cell_type": "code",
   "execution_count": 226,
   "metadata": {
    "scrolled": true
   },
   "outputs": [
    {
     "name": "stdout",
     "output_type": "stream",
     "text": [
      "{'mean_fit_time': array([0.03104448, 0.02677124, 0.02186153, 0.02101192, 0.02346253,\n",
      "       0.0244139 , 0.02430639, 0.02741568, 0.02630794, 0.02576795]), 'std_fit_time': array([0.01032976, 0.00245736, 0.0023352 , 0.00241781, 0.00271445,\n",
      "       0.00233479, 0.00477715, 0.00409455, 0.0028298 , 0.00240235]), 'mean_score_time': array([0.00188293, 0.00190825, 0.0011513 , 0.00100071, 0.00099993,\n",
      "       0.00110028, 0.00140045, 0.00109961, 0.00100012, 0.00110059]), 'std_score_time': array([1.12001722e-03, 2.69870842e-03, 4.53562049e-04, 3.03279304e-06,\n",
      "       9.88790577e-07, 3.00337815e-04, 8.01041178e-04, 2.99844147e-04,\n",
      "       1.18635705e-06, 3.00869431e-04]), 'param_C': masked_array(data=[1e-06, 1e-05, 0.0001, 0.001, 0.01, 0.1, 1, 10, 100,\n",
      "                   1000],\n",
      "             mask=[False, False, False, False, False, False, False, False,\n",
      "                   False, False],\n",
      "       fill_value='?',\n",
      "            dtype=object), 'params': [{'C': 1e-06}, {'C': 1e-05}, {'C': 0.0001}, {'C': 0.001}, {'C': 0.01}, {'C': 0.1}, {'C': 1}, {'C': 10}, {'C': 100}, {'C': 1000}], 'split0_test_score': array([0.58411215, 0.58411215, 0.58411215, 0.66588785, 0.67990654,\n",
      "       0.68224299, 0.68457944, 0.68457944, 0.68457944, 0.68457944]), 'split1_test_score': array([0.58411215, 0.58411215, 0.58411215, 0.67523364, 0.67990654,\n",
      "       0.68925234, 0.68457944, 0.68457944, 0.68457944, 0.68457944]), 'split2_test_score': array([0.58411215, 0.58411215, 0.58411215, 0.69392523, 0.70560748,\n",
      "       0.71495327, 0.71495327, 0.71495327, 0.71495327, 0.71495327]), 'split3_test_score': array([0.58411215, 0.58411215, 0.58411215, 0.67056075, 0.68457944,\n",
      "       0.68224299, 0.68224299, 0.68224299, 0.68224299, 0.68224299]), 'split4_test_score': array([0.58411215, 0.58411215, 0.58411215, 0.63785047, 0.65420561,\n",
      "       0.65654206, 0.65654206, 0.65654206, 0.65654206, 0.65654206]), 'split5_test_score': array([0.58411215, 0.58411215, 0.58411215, 0.61682243, 0.61448598,\n",
      "       0.61214953, 0.61448598, 0.61448598, 0.61448598, 0.61448598]), 'split6_test_score': array([0.58411215, 0.58411215, 0.58411215, 0.67523364, 0.68925234,\n",
      "       0.68224299, 0.68691589, 0.68691589, 0.68691589, 0.68691589]), 'split7_test_score': array([0.58548009, 0.58548009, 0.58548009, 0.68149883, 0.66510539,\n",
      "       0.66510539, 0.66510539, 0.66510539, 0.66510539, 0.66510539]), 'split8_test_score': array([0.58313817, 0.58313817, 0.58313817, 0.69789227, 0.69789227,\n",
      "       0.69555035, 0.69555035, 0.69555035, 0.69555035, 0.69555035]), 'split9_test_score': array([0.58313817, 0.58313817, 0.58313817, 0.68618267, 0.66744731,\n",
      "       0.66510539, 0.66510539, 0.66510539, 0.66510539, 0.66510539]), 'mean_test_score': array([0.58405415, 0.58405415, 0.58405415, 0.67010878, 0.67383889,\n",
      "       0.67453873, 0.67500602, 0.67500602, 0.67500602, 0.67500602]), 'std_test_score': array([0.00061114, 0.00061114, 0.00061114, 0.0238282 , 0.02457587,\n",
      "       0.02619857, 0.02568075, 0.02568075, 0.02568075, 0.02568075]), 'rank_test_score': array([8, 8, 8, 7, 6, 5, 1, 1, 1, 1]), 'split0_train_score': array([0.5840478 , 0.5840478 , 0.58430761, 0.67550013, 0.68277475,\n",
      "       0.68199532, 0.6812159 , 0.6812159 , 0.6812159 , 0.6812159 ]), 'split1_train_score': array([0.5840478 , 0.5840478 , 0.58430761, 0.67653936, 0.68199532,\n",
      "       0.68355417, 0.68303455, 0.68303455, 0.68303455, 0.68329436]), 'split2_train_score': array([0.5840478 , 0.5840478 , 0.5840478 , 0.67420109, 0.67575994,\n",
      "       0.67913744, 0.67861782, 0.67861782, 0.67861782, 0.67861782]), 'split3_train_score': array([0.5840478 , 0.5840478 , 0.5840478 , 0.67316186, 0.6812159 ,\n",
      "       0.68589244, 0.68641206, 0.68615225, 0.68615225, 0.68615225]), 'split4_train_score': array([0.5840478 , 0.5840478 , 0.58430761, 0.67887763, 0.68433359,\n",
      "       0.68147571, 0.68251494, 0.68199532, 0.68199532, 0.68199532]), 'split5_train_score': array([0.5840478 , 0.5840478 , 0.5840478 , 0.68485321, 0.69498571,\n",
      "       0.69524552, 0.69524552, 0.69524552, 0.69524552, 0.69524552]), 'split6_train_score': array([0.5840478 , 0.5840478 , 0.5840478 , 0.67420109, 0.67913744,\n",
      "       0.67861782, 0.67861782, 0.67861782, 0.67861782, 0.67861782]), 'split7_train_score': array([0.5838961 , 0.5838961 , 0.5838961 , 0.67506494, 0.67922078,\n",
      "       0.68103896, 0.6812987 , 0.6812987 , 0.6812987 , 0.6812987 ]), 'split8_train_score': array([0.58415584, 0.58415584, 0.58441558, 0.67090909, 0.67766234,\n",
      "       0.67662338, 0.67584416, 0.67558442, 0.67558442, 0.67558442]), 'split9_train_score': array([0.58415584, 0.58415584, 0.58415584, 0.67636364, 0.68467532,\n",
      "       0.6812987 , 0.68207792, 0.68181818, 0.68181818, 0.68181818]), 'mean_train_score': array([0.58405424, 0.58405424, 0.58415816, 0.6759672 , 0.68217611,\n",
      "       0.68248795, 0.68248794, 0.68235805, 0.68235805, 0.68238403]), 'std_train_score': array([6.77818078e-05, 6.77818078e-05, 1.58324780e-04, 3.58665863e-03,\n",
      "       5.05775287e-03, 4.90776073e-03, 5.05717283e-03, 5.07593250e-03,\n",
      "       5.07593250e-03, 5.07999193e-03])}\n"
     ]
    }
   ],
   "source": [
    "result_set = cv.cv_results_\n",
    "print(result_set)"
   ]
  },
  {
   "cell_type": "code",
   "execution_count": 227,
   "metadata": {
    "scrolled": true
   },
   "outputs": [
    {
     "name": "stdout",
     "output_type": "stream",
     "text": [
      "Total number of models:  10\n"
     ]
    },
    {
     "data": {
      "image/png": "[encoded data removed]",
      "text/plain": [
       "<Figure size 432x288 with 1 Axes>"
      ]
     },
     "metadata": {
      "needs_background": "light"
     },
     "output_type": "display_data"
    }
   ],
   "source": [
    "import  matplotlib.pyplot as plt\n",
    "\n",
    "train_result = result_set['split0_train_score']\n",
    "test_result = result_set['split0_test_score']\n",
    "print(\"Total number of models: \",len(test_result))\n",
    "\n",
    "plt.plot(range(0,len(train_result)),train_result,'b',range(0,len(test_result)),test_result,'r')\n",
    "plt.xlabel('Hyperparameter C\\nBlue =traning acc. Red = test acc.')\n",
    "plt.xticks(range(0,len(train_result)),[pow(10,x) for x in range(-6,4)])\n",
    "plt.ylabel('score')\n",
    "plt.show()"
   ]
  },
  {
   "cell_type": "code",
   "execution_count": 228,
   "metadata": {
    "scrolled": true
   },
   "outputs": [
    {
     "name": "stdout",
     "output_type": "stream",
     "text": [
      "Total number of models:  10\n"
     ]
    },
    {
     "data": {
      "image/png": "[encoded data removed]",
      "text/plain": [
       "<Figure size 432x288 with 1 Axes>"
      ]
     },
     "metadata": {
      "needs_background": "light"
     },
     "output_type": "display_data"
    }
   ],
   "source": [
    "train_result = result_set['mean_train_score']\n",
    "test_result = result_set['mean_test_score']\n",
    "print(\"Total number of models: \", len(test_result))\n",
    "\n",
    "plt.plot(range(0, len(train_result)), train_result, 'b', range(0,len(test_result)), test_result, 'r')\n",
    "plt.xlabel('Hyperparameter C\\nBlue = training acc. Red = test acc.')\n",
    "plt.xticks(range(0, len(train_result)),[pow(10, x) for x in range(-6, 4)])\n",
    "plt.ylabel('score')\n",
    "plt.show()"
   ]
  },
  {
   "cell_type": "code",
   "execution_count": 229,
   "metadata": {},
   "outputs": [
    {
     "name": "stdout",
     "output_type": "stream",
     "text": [
      "{'C': 1}\n"
     ]
    }
   ],
   "source": [
    "print(cv.best_params_)"
   ]
  },
  {
   "cell_type": "code",
   "execution_count": 230,
   "metadata": {
    "scrolled": true
   },
   "outputs": [
    {
     "name": "stdout",
     "output_type": "stream",
     "text": [
      "Train accuracy: 0.6841243862520459\n",
      "Test accuracy: 0.6868521549372614\n"
     ]
    }
   ],
   "source": [
    "cv.fit(X_train, y_train)\n",
    "\n",
    "print(\"Train accuracy:\", cv.score(X_train, y_train))\n",
    "print(\"Test accuracy:\", cv.score(X_test, y_test))"
   ]
  },
  {
   "cell_type": "code",
   "execution_count": 231,
   "metadata": {},
   "outputs": [
    {
     "name": "stdout",
     "output_type": "stream",
     "text": [
      "income_high i -0.3666471863007343\n",
      "income_med i 0.3235550910968556\n",
      "weight i 0.2874884464731233\n",
      "house_count i 0.2691816133179407\n",
      "height i -0.23661372710322431\n"
     ]
    }
   ],
   "source": [
    "best_model = cv.best_estimator_\n",
    "\n",
    "feature_names = X.columns\n",
    "coef = best_model.coef_[0]\n",
    "    \n",
    "indices = np.argsort(np.absolute(coef))\n",
    "indices = np.flip(indices,axis=0)\n",
    "\n",
    "indices = indices[:5]\n",
    "\n",
    "for i in indices :\n",
    "    print(feature_names[i],'i',coef[i])\n"
   ]
  },
  {
   "cell_type": "code",
   "execution_count": 232,
   "metadata": {},
   "outputs": [
    {
     "name": "stdout",
     "output_type": "stream",
     "text": [
      "Train accuracy: 0.6841243862520459\n",
      "Test accuracy: 0.6868521549372614\n",
      "              precision    recall  f1-score   support\n",
      "\n",
      "           0       0.71      0.77      0.74      1070\n",
      "           1       0.64      0.57      0.60       763\n",
      "\n",
      "    accuracy                           0.69      1833\n",
      "   macro avg       0.68      0.67      0.67      1833\n",
      "weighted avg       0.68      0.69      0.68      1833\n",
      "\n"
     ]
    }
   ],
   "source": [
    "print(\"Train accuracy:\", best_model.score(X_train, y_train))\n",
    "print(\"Test accuracy:\",best_model.score(X_test, y_test))\n",
    "\n",
    "y_pred = best_model.predict(X_test)\n",
    "print(classification_report(y_test,y_pred))"
   ]
  },
  {
   "cell_type": "code",
   "execution_count": 233,
   "metadata": {},
   "outputs": [
    {
     "name": "stdout",
     "output_type": "stream",
     "text": [
      "Original feature set 35\n",
      "Number of features after elimination 14\n"
     ]
    }
   ],
   "source": [
    "#task3\n",
    "#Feature Selection using Recursive Feature Elimination\n",
    "\n",
    "from sklearn.feature_selection import RFECV\n",
    "\n",
    "rfe = RFECV(estimator = LogisticRegression(random_state=rs), cv=10)\n",
    "rfe.fit(X_train, y_train) # run the RFECV\n",
    "\n",
    "# comparing how many variables before and after\n",
    "print(\"Original feature set\", X_train.shape[1])\n",
    "print(\"Number of features after elimination\", rfe.n_features_)"
   ]
  },
  {
   "cell_type": "code",
   "execution_count": 234,
   "metadata": {
    "scrolled": true
   },
   "outputs": [
    {
     "name": "stdout",
     "output_type": "stream",
     "text": [
      "Train accuracy: 0.6815524900631283\n",
      "Test accuracy: 0.6857610474631751\n",
      "              precision    recall  f1-score   support\n",
      "\n",
      "           0       0.71      0.78      0.74      1070\n",
      "           1       0.64      0.56      0.60       763\n",
      "\n",
      "    accuracy                           0.69      1833\n",
      "   macro avg       0.68      0.67      0.67      1833\n",
      "weighted avg       0.68      0.69      0.68      1833\n",
      "\n"
     ]
    }
   ],
   "source": [
    "X_train_sel = rfe.transform(X_train)\n",
    "X_test_sel = rfe.transform(X_test)\n",
    "\n",
    "params = {'C': [pow(10, x) for x in range(-6, 4)]}\n",
    "\n",
    "rfe_cv = GridSearchCV(param_grid=params, estimator=LogisticRegression(random_state=rs), cv=10, n_jobs=-1)\n",
    "rfe_cv.fit(X_train_sel, y_train)\n",
    "\n",
    "# test the best model\n",
    "print(\"Train accuracy:\", rfe_cv.score(X_train_sel, y_train))\n",
    "print(\"Test accuracy:\", rfe_cv.score(X_test_sel, y_test))\n",
    "\n",
    "y_pred = rfe_cv.predict(X_test_sel)\n",
    "print(classification_report(y_test, y_pred))"
   ]
  },
  {
   "cell_type": "code",
   "execution_count": 235,
   "metadata": {},
   "outputs": [
    {
     "name": "stdout",
     "output_type": "stream",
     "text": [
      "Total number of models:  10\n"
     ]
    },
    {
     "data": {
      "image/png": "[encoded data removed]",
      "text/plain": [
       "<Figure size 432x288 with 1 Axes>"
      ]
     },
     "metadata": {
      "needs_background": "light"
     },
     "output_type": "display_data"
    }
   ],
   "source": [
    "rfe_result_set = rfe_cv.cv_results_\n",
    "\n",
    "rfe_test_result = rfe_result_set['mean_test_score']\n",
    "print(\"Total number of models: \", len(rfe_test_result))\n",
    "\n",
    "plt.plot(range(0,len(rfe_test_result)), rfe_test_result, 'r')\n",
    "plt.xlabel('Hyperparameter C\\nBlue = training acc. Red = test acc.')\n",
    "plt.xticks(range(0, len(rfe_test_result)),[pow(10, x) for x in range(-6, 4)])\n",
    "plt.ylabel('score')\n",
    "plt.show()"
   ]
  },
  {
   "cell_type": "code",
   "execution_count": 236,
   "metadata": {},
   "outputs": [
    {
     "name": "stdout",
     "output_type": "stream",
     "text": [
      "{'C': 0.01}\n"
     ]
    }
   ],
   "source": [
    "# print parameters of the best model\n",
    "print(rfe_cv.best_params_)"
   ]
  },
  {
   "cell_type": "code",
   "execution_count": 237,
   "metadata": {},
   "outputs": [
    {
     "name": "stdout",
     "output_type": "stream",
     "text": [
      "worried i -0.38332788565718834\n",
      "gender_female i 0.26270486126373466\n",
      "height i 0.25205530034917173\n"
     ]
    }
   ],
   "source": [
    "rfe_best_model = rfe_cv.best_estimator_\n",
    "\n",
    "feature_names = X.columns\n",
    "coef = rfe_best_model.coef_[0]\n",
    "    \n",
    "indices = np.argsort(np.absolute(coef))\n",
    "indices = np.flip(indices,axis=0)\n",
    "\n",
    "indices = indices[:3]\n",
    "\n",
    "for i in indices :\n",
    "    print(feature_names[i],'i',coef[i])\n"
   ]
  },
  {
   "cell_type": "code",
   "execution_count": 238,
   "metadata": {},
   "outputs": [
    {
     "name": "stdout",
     "output_type": "stream",
     "text": [
      "ROC index on test for `model`: 0.7398206783356401\n",
      "ROC index on test for `cv`: 0.7398206783356401\n",
      "ROC index on test for `rfe_cv`: 0.7378682279736898\n"
     ]
    }
   ],
   "source": [
    "#task4\n",
    "from sklearn.metrics import roc_auc_score\n",
    "\n",
    "y_pred_proba_lr = model.predict_proba(X_test)\n",
    "y_pred_proba_lr_cv = cv.predict_proba(X_test)\n",
    "y_pred_proba_rfe_cv = rfe_cv.predict_proba(X_test_sel)\n",
    "\n",
    "roc_index_lr = roc_auc_score(y_test, y_pred_proba_lr[:, 1])\n",
    "roc_index_lr_cv = roc_auc_score(y_test, y_pred_proba_lr_cv[:, 1])\n",
    "roc_index_rfe_cv = roc_auc_score(y_test, y_pred_proba_rfe_cv[:, 1])\n",
    "\n",
    "print(\"ROC index on test for `model`:\", roc_index_lr)\n",
    "print(\"ROC index on test for `cv`:\", roc_index_lr_cv)\n",
    "print(\"ROC index on test for `rfe_cv`:\", roc_index_rfe_cv)\n"
   ]
  },
  {
   "cell_type": "code",
   "execution_count": 239,
   "metadata": {},
   "outputs": [
    {
     "data": {
      "image/png": "[encoded data removed]",
      "text/plain": [
       "<Figure size 432x288 with 1 Axes>"
      ]
     },
     "metadata": {
      "needs_background": "light"
     },
     "output_type": "display_data"
    }
   ],
   "source": [
    "from sklearn.metrics import roc_curve\n",
    "\n",
    "fpr_lr, tpr_lr, thresholds_lr = roc_curve(y_test, y_pred_proba_lr[:,1])\n",
    "fpr_lr_cv, tpr_lr_cv, thresholds_lr_cv = roc_curve(y_test, y_pred_proba_lr_cv[:,1])\n",
    "fpr_rfe_cv, tpr_rfe_cv, thresholds_rfe_cv = roc_curve(y_test, y_pred_proba_rfe_cv[:,1])\n",
    "\n",
    "\n",
    "plt.plot(fpr_lr, tpr_lr, label='ROC Curve for `model` {:.3f}'.format(roc_index_lr), color='red', lw=0.5)\n",
    "plt.plot(fpr_lr_cv, tpr_lr_cv, label='ROC Curve for `cv` {:.3f}'.format(roc_index_lr_cv), color='green', lw=0.5)\n",
    "plt.plot(fpr_rfe_cv, tpr_rfe_cv, label='ROC Curve for `rfe_cv` {:.3f}'.format(roc_index_rfe_cv), color='blue', lw=0.5)\n",
    "\n",
    "plt.plot([0, 1], [0, 1], color='navy', lw=0.5, linestyle='--')\n",
    "plt.xlim([0.0, 1.0])\n",
    "plt.ylim([0.0, 1.0])\n",
    "plt.xlabel('False Positive Rate')\n",
    "plt.ylabel('True Positive Rate')\n",
    "plt.title('Receiver operating characteristic example')\n",
    "plt.legend(loc=\"lower right\")\n",
    "plt.show()\n"
   ]
  },
  {
   "cell_type": "code",
   "execution_count": null,
   "metadata": {},
   "outputs": [],
   "source": []
  }
 ],
 "metadata": {
  "kernelspec": {
   "display_name": "Python 3",
   "language": "python",
   "name": "python3"
  },
  "language_info": {
   "codemirror_mode": {
    "name": "ipython",
    "version": 3
   },
   "file_extension": ".py",
   "mimetype": "text/x-python",
   "name": "python",
   "nbconvert_exporter": "python",
   "pygments_lexer": "ipython3",
   "version": "3.7.3"
  }
 },
 "nbformat": 4,
 "nbformat_minor": 2
}
