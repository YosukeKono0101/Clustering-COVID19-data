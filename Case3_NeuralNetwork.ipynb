{
 "cells": [
  {
   "cell_type": "markdown",
   "metadata": {},
   "source": [
    "## 1. Preprocessing"
   ]
  },
  {
   "cell_type": "code",
   "execution_count": 1,
   "metadata": {},
   "outputs": [
    {
     "name": "stdout",
     "output_type": "stream",
     "text": [
      "<class 'pandas.core.frame.DataFrame'>\n",
      "RangeIndex: 6110 entries, 0 to 6109\n",
      "Data columns (total 16 columns):\n",
      "gender              6110 non-null object\n",
      "age                 6110 non-null object\n",
      "height              6110 non-null int64\n",
      "weight              6110 non-null int64\n",
      "blood_type          6110 non-null object\n",
      "insurance           6110 non-null object\n",
      "income              6110 non-null object\n",
      "race                6110 non-null object\n",
      "immigrant           6110 non-null object\n",
      "smoking             6110 non-null object\n",
      "alcohol             6110 non-null float64\n",
      "contacts_count      6110 non-null float64\n",
      "house_count         6110 non-null float64\n",
      "working             6110 non-null object\n",
      "worried             6110 non-null int64\n",
      "covid19_positive    6110 non-null int64\n",
      "dtypes: float64(3), int64(4), object(9)\n",
      "memory usage: 763.8+ KB\n"
     ]
    }
   ],
   "source": [
    "import pandas as pd\n",
    "import numpy as np\n",
    "from sklearn.model_selection import train_test_split, GridSearchCV\n",
    "from sklearn.metrics import classification_report, accuracy_score\n",
    "from sklearn.preprocessing import StandardScaler\n",
    "\n",
    "\n",
    "df = pd.read_csv('D2.csv')\n",
    "df.info()"
   ]
  },
  {
   "cell_type": "code",
   "execution_count": 2,
   "metadata": {
    "scrolled": true
   },
   "outputs": [
    {
     "name": "stdout",
     "output_type": "stream",
     "text": [
      "gender\n",
      "['male' 'female' 'other']\n",
      "\n",
      "age\n",
      "['30_40' '70_80' '50_60' '20_30' '60_70' '40_50' '80_90' '90_100' '10_20'\n",
      " '0_10' '100_110']\n",
      "\n",
      "height\n",
      "[174 182 184 164 192 180 186 176 172 178 190 158 132 170 152 162 166 168\n",
      " 154 160 156 150 194 188 198 196 136 146 144 138 148 114 116 238 134 126\n",
      " 204 228 122 200 118 110 120 128 210 124 112 202 130 216]\n",
      "\n",
      "weight\n",
      "[ 64 118  72  92 100  80  84 116  82  68  78 180  96 136  62 114  58  76\n",
      " 160 104  70 124 106  52  56  66  90  54 102  88  60  86 122 112  50 146\n",
      "  74 138 128 132  48  98 126 134  94 130  44 164 110 158  46 150 140 148\n",
      " 152 166 108 144 120 162 168 176 178 174 142 154 156 170]\n",
      "\n",
      "blood_type\n",
      "['bp' 'unknown' 'an' 'ap' 'on' 'op' 'abp' 'abn' 'bn']\n",
      "\n",
      "insurance\n",
      "['yes' 'no']\n",
      "\n",
      "income\n",
      "['med' 'low' 'high' 'gov']\n",
      "\n",
      "race\n",
      "['white' 'mixed' 'asian' 'black' 'hispanic' 'other']\n",
      "\n",
      "immigrant\n",
      "['native' 'immigrant']\n",
      "\n",
      "smoking\n",
      "['never' 'quit0' 'quit5' 'yeslight' 'quit10' 'yesheavy' 'yesmedium' 'vape']\n",
      "\n",
      "alcohol\n",
      "[ 3.0132005  0.        14.         5.         2.        11.\n",
      "  1.         6.         4.         7.         3.         9.\n",
      " 10.        12.        13.         8.       ]\n",
      "\n",
      "contacts_count\n",
      "[ 7.72559367 21.          2.         10.          5.          3.\n",
      "  6.          9.          1.         14.         15.          4.\n",
      "  0.         12.          7.         11.          8.         13.\n",
      " 19.         20.         16.         17.         18.        ]\n",
      "\n",
      "house_count\n",
      "[ 2.          3.          1.          5.          4.          8.\n",
      " 10.         11.          6.          7.          9.          3.05705041]\n",
      "\n",
      "working\n",
      "['never' 'stopped' 'travel critical' 'home' 'travel non critical']\n",
      "\n",
      "worried\n",
      "[4 3 2 5 1]\n",
      "\n",
      "covid19_positive\n",
      "[1 0]\n",
      "\n"
     ]
    }
   ],
   "source": [
    "for i in df:\n",
    "    print(i)\n",
    "    print(df[i].unique())\n",
    "    print()"
   ]
  },
  {
   "cell_type": "code",
   "execution_count": 3,
   "metadata": {
    "scrolled": true
   },
   "outputs": [
    {
     "data": {
      "text/plain": [
       "unknown    2025\n",
       "ap         1338\n",
       "op         1311\n",
       "on          436\n",
       "bp          411\n",
       "an          259\n",
       "abp         194\n",
       "bn           95\n",
       "abn          41\n",
       "Name: blood_type, dtype: int64"
      ]
     },
     "execution_count": 3,
     "metadata": {},
     "output_type": "execute_result"
    }
   ],
   "source": [
    "# see for missing value\n",
    "df['blood_type'].value_counts(dropna=False)"
   ]
  },
  {
   "cell_type": "markdown",
   "metadata": {},
   "source": [
    "`blood_type` needs to be drop because there's too much missing values  \n",
    "(over 20% missing data should be dropped)"
   ]
  },
  {
   "cell_type": "code",
   "execution_count": 4,
   "metadata": {},
   "outputs": [],
   "source": [
    "def data_prep():\n",
    "    \n",
    "    df = pd.read_csv('D2.csv')\n",
    "    \n",
    "    # change data type\n",
    "    df['alcohol'] = df['alcohol'].round().astype(int)\n",
    "    df['contacts_count'] = df['contacts_count'].round().astype(int)\n",
    "    df['house_count'] = df['house_count'].round().astype(int)\n",
    "    \n",
    "    # change 'insurance' & 'immigrant' into binary 0/1 variable\n",
    "    insurance_map = {'yes': 1, 'no': 0}\n",
    "    df['insurance'] = df['insurance'].map(insurance_map)\n",
    "    \n",
    "    immi_map = {'immigrant': 1, 'native': 0}\n",
    "    df['immigrant'] = df['immigrant'].map(immi_map)\n",
    "    \n",
    "    age_map = {'30_40':4 ,'70_80':8, '50_60':6, '20_30':3, '60_70':7, '40_50':5, \n",
    "               '80_90':9,'90_100':10, '10_20':2,'0_10':1, '100_110':11}\n",
    "    df['age'] = df['age'].map(age_map)\n",
    "    \n",
    "    # drop 'blood_type' column\n",
    "    df.drop(['blood_type'], axis=1, inplace=True)\n",
    "    \n",
    "    # one-hot encoding\n",
    "    df = pd.get_dummies(df)\n",
    "    \n",
    "    y = df['covid19_positive']\n",
    "    X = df.drop(['covid19_positive'], axis=1)\n",
    "\n",
    "    X_mat = X.to_numpy()\n",
    "    X_train, X_test, y_train, y_test = train_test_split(\n",
    "        X_mat, y, test_size=0.3, stratify=y, random_state=rs)\n",
    "\n",
    "    return df,X,y,X_train, X_test, y_train, y_test\n",
    "\n",
    "\n",
    "# setting random state\n",
    "rs = 10\n",
    "\n",
    "# load the data\n",
    "df,X,y,X_train, X_test, y_train, y_test = data_prep()\n",
    "\n",
    "scaler = StandardScaler()\n",
    "X_train = scaler.fit_transform(X_train, y_train)\n",
    "X_test = scaler.transform(X_test)"
   ]
  },
  {
   "cell_type": "markdown",
   "metadata": {},
   "source": [
    "## 2. Build NN with default"
   ]
  },
  {
   "cell_type": "code",
   "execution_count": 5,
   "metadata": {},
   "outputs": [
    {
     "name": "stdout",
     "output_type": "stream",
     "text": [
      "Train accuracy: 0.8522328735094693\n",
      "Test accuracy: 0.6988543371522095\n",
      "              precision    recall  f1-score   support\n",
      "\n",
      "           0       0.73      0.76      0.75      1070\n",
      "           1       0.65      0.61      0.63       763\n",
      "\n",
      "    accuracy                           0.70      1833\n",
      "   macro avg       0.69      0.69      0.69      1833\n",
      "weighted avg       0.70      0.70      0.70      1833\n",
      "\n",
      "MLPClassifier(random_state=10)\n"
     ]
    },
    {
     "name": "stderr",
     "output_type": "stream",
     "text": [
      "C:\\Users\\tamag\\Anaconda3\\lib\\site-packages\\sklearn\\neural_network\\_multilayer_perceptron.py:696: ConvergenceWarning: Stochastic Optimizer: Maximum iterations (200) reached and the optimization hasn't converged yet.\n",
      "  ConvergenceWarning,\n"
     ]
    }
   ],
   "source": [
    "from sklearn.neural_network import MLPClassifier\n",
    "\n",
    "model_1 = MLPClassifier(random_state=rs)\n",
    "model_1.fit(X_train, y_train)\n",
    "\n",
    "print('Train accuracy:', model_1.score(X_train, y_train))\n",
    "print('Test accuracy:', model_1.score(X_test, y_test))\n",
    "\n",
    "y_pred = model_1.predict(X_test)\n",
    "print(classification_report(y_test, y_pred))\n",
    "\n",
    "print(model_1)"
   ]
  },
  {
   "cell_type": "code",
   "execution_count": 6,
   "metadata": {},
   "outputs": [
    {
     "name": "stdout",
     "output_type": "stream",
     "text": [
      "{'activation': 'relu', 'alpha': 0.0001, 'batch_size': 'auto', 'beta_1': 0.9, 'beta_2': 0.999, 'early_stopping': False, 'epsilon': 1e-08, 'hidden_layer_sizes': (100,), 'learning_rate': 'constant', 'learning_rate_init': 0.001, 'max_fun': 15000, 'max_iter': 200, 'momentum': 0.9, 'n_iter_no_change': 10, 'nesterovs_momentum': True, 'power_t': 0.5, 'random_state': 10, 'shuffle': True, 'solver': 'adam', 'tol': 0.0001, 'validation_fraction': 0.1, 'verbose': False, 'warm_start': False}\n"
     ]
    }
   ],
   "source": [
    "print(model_1.get_params())"
   ]
  },
  {
   "cell_type": "markdown",
   "metadata": {},
   "source": [
    "### a. default setting are used in this model building  \n",
    "1. Network Architecture: `'hidden_layer_sizes': (100,)` -> The network consists of a single hidden layer with 100 neurons. The input layer contains 14 features (exclude `blood_type`). The architecture can be interpret as:  \n",
    "14 onput Layer -> 100 neurons -> 1 output Layer(`covid19_positive`)  \n",
    "2. Iterations: `'max_iter': 200` -> The neural network will go through a maximum of **200** iterations or epochs. Each iteration invloves forward propagating the input data through the network, calculating the loss, and updating the weights based on the optimization algorithms.  \n",
    "3. Activation function: `'activation': 'relu'` -> **Rectified Linear Unit**. The relu activation function is widely used in neural networks due to its ability to handle non-linear relationships effectively. It introduces non-linearity by returning the input as-is if it is positive, and returning zero otherwise. The relu activation function is known for its simplicity and ability to alleviate the vanishing gradient problem.  \n",
    "4. `'early_stop': False` -> early stopping is disabled during the training process. `early_stop` is a technique to prevent overfitting and improve generalization. While it is set to `False`, the training will continue for the maximum number of iterations or epochs specified by `max_iter`(which is set to **200**), that is, it will not stop until it had ran for 200 iterations.  "
   ]
  },
  {
   "cell_type": "markdown",
   "metadata": {},
   "source": [
    "### b. accuracy  "
   ]
  },
  {
   "cell_type": "markdown",
   "metadata": {},
   "source": [
    "### c. result in best model"
   ]
  },
  {
   "cell_type": "code",
   "execution_count": 7,
   "metadata": {},
   "outputs": [
    {
     "name": "stdout",
     "output_type": "stream",
     "text": [
      "Train accuracy: 0.9413140051437924\n",
      "Test accuracy: 0.67430441898527\n",
      "              precision    recall  f1-score   support\n",
      "\n",
      "           0       0.72      0.72      0.72      1070\n",
      "           1       0.61      0.61      0.61       763\n",
      "\n",
      "    accuracy                           0.67      1833\n",
      "   macro avg       0.66      0.66      0.66      1833\n",
      "weighted avg       0.67      0.67      0.67      1833\n",
      "\n",
      "MLPClassifier(max_iter=700, random_state=10)\n"
     ]
    },
    {
     "name": "stderr",
     "output_type": "stream",
     "text": [
      "C:\\Users\\tamag\\Anaconda3\\lib\\site-packages\\sklearn\\neural_network\\_multilayer_perceptron.py:696: ConvergenceWarning: Stochastic Optimizer: Maximum iterations (700) reached and the optimization hasn't converged yet.\n",
      "  ConvergenceWarning,\n"
     ]
    }
   ],
   "source": [
    "# test model 2 with 'max_iter'=700\n",
    "\n",
    "model_2 = MLPClassifier(max_iter=700, random_state=rs)\n",
    "model_2.fit(X_train, y_train)\n",
    "\n",
    "print(\"Train accuracy:\", model_2.score(X_train, y_train))\n",
    "print(\"Test accuracy:\", model_2.score(X_test, y_test))\n",
    "\n",
    "y_pred = model_2.predict(X_test)\n",
    "print(classification_report(y_test, y_pred))\n",
    "\n",
    "print(model_2)"
   ]
  },
  {
   "cell_type": "code",
   "execution_count": 8,
   "metadata": {},
   "outputs": [
    {
     "name": "stdout",
     "output_type": "stream",
     "text": [
      "Train accuracy: 0.8339957914425999\n",
      "Test accuracy: 0.6933987997817785\n",
      "              precision    recall  f1-score   support\n",
      "\n",
      "           0       0.74      0.74      0.74      1070\n",
      "           1       0.63      0.63      0.63       763\n",
      "\n",
      "    accuracy                           0.69      1833\n",
      "   macro avg       0.68      0.68      0.68      1833\n",
      "weighted avg       0.69      0.69      0.69      1833\n",
      "\n",
      "MLPClassifier(max_iter=150, random_state=10)\n"
     ]
    },
    {
     "name": "stderr",
     "output_type": "stream",
     "text": [
      "C:\\Users\\tamag\\Anaconda3\\lib\\site-packages\\sklearn\\neural_network\\_multilayer_perceptron.py:696: ConvergenceWarning: Stochastic Optimizer: Maximum iterations (150) reached and the optimization hasn't converged yet.\n",
      "  ConvergenceWarning,\n"
     ]
    }
   ],
   "source": [
    "# test model 3 with 'max_iter'=150\n",
    "\n",
    "model_3 = MLPClassifier(max_iter=150, random_state=rs)\n",
    "model_3.fit(X_train, y_train)\n",
    "\n",
    "print(\"Train accuracy:\", model_3.score(X_train, y_train))\n",
    "print(\"Test accuracy:\", model_3.score(X_test, y_test))\n",
    "\n",
    "y_pred = model_3.predict(X_test)\n",
    "print(classification_report(y_test, y_pred))\n",
    "\n",
    "print(model_3)"
   ]
  },
  {
   "cell_type": "markdown",
   "metadata": {},
   "source": [
    "The NN with `max_iter=700` perform higher accuracy on training dataset(**96%**). However, the test accuracy is less than the previous model(**68%**), this indicates the overfitting of training data.  \n",
    "Although, `model_3` with `max_iter=150` performs a less accuracy on training dataset(**87%**), it performs a slightly higher accuracy on testing data(**70%**).\n",
    "Therefore, `model_1` does not result in the best model, also has a overfitting problem, which its testing data accuracy(**69.45%**) is much less than the training data(**89.31%**)."
   ]
  },
  {
   "cell_type": "markdown",
   "metadata": {},
   "source": [
    "## 3. Refine with `GridSearchCV`"
   ]
  },
  {
   "cell_type": "code",
   "execution_count": 9,
   "metadata": {},
   "outputs": [
    {
     "name": "stdout",
     "output_type": "stream",
     "text": [
      "(4277, 35)\n"
     ]
    }
   ],
   "source": [
    "print(X_train.shape)"
   ]
  },
  {
   "cell_type": "code",
   "execution_count": 10,
   "metadata": {},
   "outputs": [
    {
     "name": "stderr",
     "output_type": "stream",
     "text": [
      "C:\\Users\\tamag\\Anaconda3\\lib\\site-packages\\sklearn\\neural_network\\_multilayer_perceptron.py:696: ConvergenceWarning: Stochastic Optimizer: Maximum iterations (200) reached and the optimization hasn't converged yet.\n",
      "  ConvergenceWarning,\n"
     ]
    },
    {
     "data": {
      "text/plain": [
       "GridSearchCV(cv=10, estimator=MLPClassifier(random_state=10), n_jobs=-1,\n",
       "             param_grid={'hidden_layer_sizes': [(5,), (10,), (15,), (20,),\n",
       "                                                (25,), (30,), (35,)]},\n",
       "             return_train_score=True)"
      ]
     },
     "execution_count": 10,
     "metadata": {},
     "output_type": "execute_result"
    }
   ],
   "source": [
    "params = {'hidden_layer_sizes': [(x,) for x in range(5, 36, 5)]}\n",
    "\n",
    "cv_1 = GridSearchCV(param_grid=params, estimator=MLPClassifier(random_state=rs), return_train_score=True, cv=10, n_jobs=-1)\n",
    "cv_1.fit(X_train, y_train)"
   ]
  },
  {
   "cell_type": "code",
   "execution_count": 11,
   "metadata": {
    "scrolled": true
   },
   "outputs": [
    {
     "data": {
      "text/plain": [
       "{'cv': 10,\n",
       " 'error_score': nan,\n",
       " 'estimator__activation': 'relu',\n",
       " 'estimator__alpha': 0.0001,\n",
       " 'estimator__batch_size': 'auto',\n",
       " 'estimator__beta_1': 0.9,\n",
       " 'estimator__beta_2': 0.999,\n",
       " 'estimator__early_stopping': False,\n",
       " 'estimator__epsilon': 1e-08,\n",
       " 'estimator__hidden_layer_sizes': (100,),\n",
       " 'estimator__learning_rate': 'constant',\n",
       " 'estimator__learning_rate_init': 0.001,\n",
       " 'estimator__max_fun': 15000,\n",
       " 'estimator__max_iter': 200,\n",
       " 'estimator__momentum': 0.9,\n",
       " 'estimator__n_iter_no_change': 10,\n",
       " 'estimator__nesterovs_momentum': True,\n",
       " 'estimator__power_t': 0.5,\n",
       " 'estimator__random_state': 10,\n",
       " 'estimator__shuffle': True,\n",
       " 'estimator__solver': 'adam',\n",
       " 'estimator__tol': 0.0001,\n",
       " 'estimator__validation_fraction': 0.1,\n",
       " 'estimator__verbose': False,\n",
       " 'estimator__warm_start': False,\n",
       " 'estimator': MLPClassifier(random_state=10),\n",
       " 'n_jobs': -1,\n",
       " 'param_grid': {'hidden_layer_sizes': [(5,),\n",
       "   (10,),\n",
       "   (15,),\n",
       "   (20,),\n",
       "   (25,),\n",
       "   (30,),\n",
       "   (35,)]},\n",
       " 'pre_dispatch': '2*n_jobs',\n",
       " 'refit': True,\n",
       " 'return_train_score': True,\n",
       " 'scoring': None,\n",
       " 'verbose': 0}"
      ]
     },
     "execution_count": 11,
     "metadata": {},
     "output_type": "execute_result"
    }
   ],
   "source": [
    "cv_1.get_params()"
   ]
  },
  {
   "cell_type": "code",
   "execution_count": 12,
   "metadata": {},
   "outputs": [
    {
     "name": "stdout",
     "output_type": "stream",
     "text": [
      "{'mean_fit_time': array([4.00631969, 4.30783961, 4.84151521, 4.93114433, 5.55594318,\n",
      "       5.3043838 , 5.3810092 ]), 'std_fit_time': array([0.37554652, 0.50089976, 0.57265757, 0.45223386, 0.89054803,\n",
      "       0.39460219, 0.55539112]), 'mean_score_time': array([0.00205531, 0.00140302, 0.00365174, 0.00230277, 0.00249996,\n",
      "       0.00155265, 0.00236065]), 'std_score_time': array([0.00057258, 0.00049038, 0.00664145, 0.00161488, 0.00120447,\n",
      "       0.0006508 , 0.00268609]), 'param_hidden_layer_sizes': masked_array(data=[(5,), (10,), (15,), (20,), (25,), (30,), (35,)],\n",
      "             mask=[False, False, False, False, False, False, False],\n",
      "       fill_value='?',\n",
      "            dtype=object), 'params': [{'hidden_layer_sizes': (5,)}, {'hidden_layer_sizes': (10,)}, {'hidden_layer_sizes': (15,)}, {'hidden_layer_sizes': (20,)}, {'hidden_layer_sizes': (25,)}, {'hidden_layer_sizes': (30,)}, {'hidden_layer_sizes': (35,)}], 'split0_test_score': array([0.67757009, 0.70093458, 0.70093458, 0.72663551, 0.68691589,\n",
      "       0.70560748, 0.69392523]), 'split1_test_score': array([0.68224299, 0.71028037, 0.69859813, 0.68691589, 0.67757009,\n",
      "       0.69626168, 0.71028037]), 'split2_test_score': array([0.71495327, 0.69859813, 0.71962617, 0.72663551, 0.72897196,\n",
      "       0.70327103, 0.71028037]), 'split3_test_score': array([0.66121495, 0.68457944, 0.67056075, 0.65420561, 0.64252336,\n",
      "       0.65420561, 0.65654206]), 'split4_test_score': array([0.69392523, 0.67523364, 0.73130841, 0.69859813, 0.69626168,\n",
      "       0.69859813, 0.70093458]), 'split5_test_score': array([0.63084112, 0.65420561, 0.65654206, 0.64953271, 0.67523364,\n",
      "       0.6588785 , 0.6588785 ]), 'split6_test_score': array([0.68224299, 0.71261682, 0.71495327, 0.70327103, 0.71495327,\n",
      "       0.71028037, 0.70093458]), 'split7_test_score': array([0.69086651, 0.70725995, 0.70023419, 0.69320843, 0.67213115,\n",
      "       0.69086651, 0.68618267]), 'split8_test_score': array([0.70023419, 0.70960187, 0.70257611, 0.68852459, 0.71428571,\n",
      "       0.70023419, 0.69086651]), 'split9_test_score': array([0.69320843, 0.70725995, 0.69320843, 0.70725995, 0.68384075,\n",
      "       0.69555035, 0.69320843]), 'mean_test_score': array([0.68272998, 0.69605704, 0.69885421, 0.69347874, 0.68926875,\n",
      "       0.69137539, 0.69020333]), 'std_test_score': array([0.0219739 , 0.01805032, 0.02094467, 0.02460098, 0.02399679,\n",
      "       0.018197  , 0.01786144]), 'rank_test_score': array([7, 2, 1, 3, 6, 4, 5]), 'split0_train_score': array([0.72174591, 0.73629514, 0.75889842, 0.77812419, 0.78046246,\n",
      "       0.78773707, 0.79734996]), 'split1_train_score': array([0.72018706, 0.74071187, 0.75656015, 0.77786438, 0.78409977,\n",
      "       0.791894  , 0.79501169]), 'split2_train_score': array([0.7147311 , 0.7381138 , 0.75474149, 0.77084957, 0.78046246,\n",
      "       0.78409977, 0.79215381]), 'split3_train_score': array([0.72538322, 0.74642764, 0.76201611, 0.77968303, 0.78669784,\n",
      "       0.79267342, 0.79968823]), 'split4_train_score': array([0.71836841, 0.74279034, 0.75422188, 0.77266823, 0.78046246,\n",
      "       0.78799688, 0.79657054]), 'split5_train_score': array([0.73291764, 0.75292284, 0.76825149, 0.77994284, 0.78098207,\n",
      "       0.79059496, 0.80254612]), 'split6_train_score': array([0.71992725, 0.74201091, 0.76045726, 0.77240842, 0.78409977,\n",
      "       0.78747727, 0.79683035]), 'split7_train_score': array([0.72155844, 0.73922078, 0.76753247, 0.77220779, 0.78675325,\n",
      "       0.79012987, 0.8       ]), 'split8_train_score': array([0.72753247, 0.74467532, 0.7625974 , 0.77792208, 0.78467532,\n",
      "       0.79142857, 0.79766234]), 'split9_train_score': array([0.72155844, 0.73974026, 0.75922078, 0.77064935, 0.78571429,\n",
      "       0.78415584, 0.79324675]), 'mean_train_score': array([0.72239099, 0.74229089, 0.76044974, 0.77523199, 0.78344097,\n",
      "       0.78881877, 0.79710598]), 'std_train_score': array([0.00483512, 0.00456055, 0.00456634, 0.00358374, 0.00248594,\n",
      "       0.00289236, 0.0029862 ])}\n"
     ]
    }
   ],
   "source": [
    "result_set = cv_1.cv_results_\n",
    "print(result_set)"
   ]
  },
  {
   "cell_type": "code",
   "execution_count": 13,
   "metadata": {},
   "outputs": [
    {
     "name": "stdout",
     "output_type": "stream",
     "text": [
      "Total number of models:  7\n"
     ]
    },
    {
     "data": {
      "text/plain": [
       "<Figure size 640x480 with 1 Axes>"
      ]
     },
     "metadata": {},
     "output_type": "display_data"
    }
   ],
   "source": [
    "import matplotlib.pyplot as plt\n",
    "train_result = result_set['split0_train_score']\n",
    "test_result = result_set['split0_test_score']\n",
    "print(\"Total number of models: \", len(test_result))\n",
    "# plot hidden layers hyperparameter values vs training and test accuracy score\n",
    "plt.plot(range(0, len(train_result)), train_result, 'b', range(0,len(test_result)), test_result, 'r')\n",
    "plt.xlabel('Hyperparameter Hidden_layers\\nBlue = training acc. Red = test acc.')\n",
    "plt.xticks(range(0, len(train_result)),range(5, 36, 5))\n",
    "plt.ylabel('score')\n",
    "plt.show()"
   ]
  },
  {
   "cell_type": "code",
   "execution_count": 14,
   "metadata": {
    "scrolled": true
   },
   "outputs": [
    {
     "name": "stdout",
     "output_type": "stream",
     "text": [
      "Total number of models:  7\n"
     ]
    },
    {
     "data": {
      "image/png": "[encoded data removed]",
      "text/plain": [
       "<Figure size 432x288 with 1 Axes>"
      ]
     },
     "metadata": {
      "needs_background": "light"
     },
     "output_type": "display_data"
    }
   ],
   "source": [
    "### Enter your code\n",
    "train_result = result_set['mean_train_score']\n",
    "test_result = result_set['mean_test_score']\n",
    "print(\"Total number of models: \", len(test_result))\n",
    "# plot hidden layers hyperparameter values vs training and test accuracy score\n",
    "plt.plot(range(0, len(train_result)), train_result, 'b', range(0,len(test_result)), test_result, 'r')\n",
    "plt.xlabel('Hyperparameter Hidden_layers\\nBlue = training acc. Red = test acc.')\n",
    "plt.xticks(range(0, len(train_result)),range(5, 36, 5))\n",
    "plt.ylabel('score')\n",
    "plt.show()"
   ]
  },
  {
   "cell_type": "markdown",
   "metadata": {},
   "source": [
    "### b. accuracy"
   ]
  },
  {
   "cell_type": "code",
   "execution_count": 15,
   "metadata": {},
   "outputs": [
    {
     "name": "stdout",
     "output_type": "stream",
     "text": [
      "Train accuracy: 0.7577741407528642\n",
      "Test accuracy: 0.7097654118930715\n",
      "              precision    recall  f1-score   support\n",
      "\n",
      "           0       0.74      0.77      0.76      1070\n",
      "           1       0.66      0.63      0.64       763\n",
      "\n",
      "    accuracy                           0.71      1833\n",
      "   macro avg       0.70      0.70      0.70      1833\n",
      "weighted avg       0.71      0.71      0.71      1833\n",
      "\n",
      "{'hidden_layer_sizes': (15,)}\n"
     ]
    }
   ],
   "source": [
    "print(\"Train accuracy:\", cv_1.score(X_train, y_train))\n",
    "print(\"Test accuracy:\", cv_1.score(X_test, y_test))\n",
    "\n",
    "y_pred = cv_1.predict(X_test)\n",
    "print(classification_report(y_test, y_pred))\n",
    "\n",
    "print(cv_1.best_params_)"
   ]
  },
  {
   "cell_type": "markdown",
   "metadata": {},
   "source": [
    "### c. result in best model"
   ]
  },
  {
   "cell_type": "code",
   "execution_count": 16,
   "metadata": {},
   "outputs": [
    {
     "name": "stdout",
     "output_type": "stream",
     "text": [
      "Train accuracy: 0.740004676174889\n",
      "Test accuracy: 0.7244953627932351\n",
      "              precision    recall  f1-score   support\n",
      "\n",
      "           0       0.75      0.79      0.77      1070\n",
      "           1       0.68      0.63      0.66       763\n",
      "\n",
      "    accuracy                           0.72      1833\n",
      "   macro avg       0.72      0.71      0.71      1833\n",
      "weighted avg       0.72      0.72      0.72      1833\n",
      "\n",
      "{'hidden_layer_sizes': (9,)}\n"
     ]
    },
    {
     "name": "stderr",
     "output_type": "stream",
     "text": [
      "C:\\Users\\tamag\\Anaconda3\\lib\\site-packages\\sklearn\\neural_network\\_multilayer_perceptron.py:696: ConvergenceWarning: Stochastic Optimizer: Maximum iterations (200) reached and the optimization hasn't converged yet.\n",
      "  ConvergenceWarning,\n"
     ]
    }
   ],
   "source": [
    "# new parameters\n",
    "params = {'hidden_layer_sizes': [(3,), (5,), (7,), (9,)]}\n",
    "\n",
    "cv_2 = GridSearchCV(param_grid=params, estimator=MLPClassifier(random_state=rs), cv=10, n_jobs=-1)\n",
    "cv_2.fit(X_train, y_train)\n",
    "\n",
    "print(\"Train accuracy:\", cv_2.score(X_train, y_train))\n",
    "print(\"Test accuracy:\", cv_2.score(X_test, y_test))\n",
    "\n",
    "y_pred = cv_2.predict(X_test)\n",
    "print(classification_report(y_test, y_pred))\n",
    "\n",
    "print(cv_2.best_params_)"
   ]
  },
  {
   "cell_type": "code",
   "execution_count": 17,
   "metadata": {},
   "outputs": [
    {
     "name": "stdout",
     "output_type": "stream",
     "text": [
      "Train accuracy: 0.7416413373860182\n",
      "Test accuracy: 0.7255864702673214\n",
      "              precision    recall  f1-score   support\n",
      "\n",
      "           0       0.75      0.79      0.77      1070\n",
      "           1       0.68      0.64      0.66       763\n",
      "\n",
      "    accuracy                           0.73      1833\n",
      "   macro avg       0.72      0.71      0.71      1833\n",
      "weighted avg       0.72      0.73      0.72      1833\n",
      "\n",
      "{'alpha': 0.01, 'hidden_layer_sizes': (9,)}\n"
     ]
    },
    {
     "name": "stderr",
     "output_type": "stream",
     "text": [
      "C:\\Users\\tamag\\Anaconda3\\lib\\site-packages\\sklearn\\neural_network\\_multilayer_perceptron.py:696: ConvergenceWarning: Stochastic Optimizer: Maximum iterations (200) reached and the optimization hasn't converged yet.\n",
      "  ConvergenceWarning,\n"
     ]
    }
   ],
   "source": [
    "params = {'hidden_layer_sizes': [(3,), (5,), (7,), (9,)], 'alpha': [0.01,0.001, 0.0001, 0.00001]}\n",
    "\n",
    "cv_3 = GridSearchCV(param_grid=params, estimator=MLPClassifier(random_state=rs), cv=10, n_jobs=-1)\n",
    "cv_3.fit(X_train, y_train)\n",
    "\n",
    "print(\"Train accuracy:\", cv_3.score(X_train, y_train))\n",
    "print(\"Test accuracy:\", cv_3.score(X_test, y_test))\n",
    "\n",
    "y_pred = cv_3.predict(X_test)\n",
    "print(classification_report(y_test, y_pred))\n",
    "\n",
    "print(cv_3.best_params_)"
   ]
  },
  {
   "cell_type": "markdown",
   "metadata": {},
   "source": [
    "It shows that the smaller `hidden_layer_size` is(`9`), and with `alpha = 0.01`(default setting is `0.0001`) will result in a slightly better model than `cv_1`.  \n",
    "- Train accuracy: **74.16%**\n",
    "- Test accuracy: **72.56%**  \n",
    "  \n",
    "`cv_3` with smaller `'hidden_layer_size'=9` & `'alpha'=0.01` is considered to be a better model, therefore, the training processs did not converge and did not result in the best model."
   ]
  },
  {
   "cell_type": "markdown",
   "metadata": {},
   "source": [
    "### d. overfitting"
   ]
  },
  {
   "cell_type": "markdown",
   "metadata": {},
   "source": [
    "There is no significant sign of **overfitting**. Although the test accuracy is not as high as the model using default settings(test accuracy: **75.78%**), `cv_3` with `GridSearchCV` test accuracy(**72.56%**) is much closer to the train accuracy(**74.56%**), showing no evidence of overfitting."
   ]
  },
  {
   "cell_type": "markdown",
   "metadata": {},
   "source": [
    "## 4. Selection with decision tree"
   ]
  },
  {
   "cell_type": "code",
   "execution_count": 18,
   "metadata": {},
   "outputs": [
    {
     "name": "stdout",
     "output_type": "stream",
     "text": [
      "{'criterion': 'entropy', 'max_depth': 7, 'min_samples_leaf': 5}\n"
     ]
    }
   ],
   "source": [
    "import pickle\n",
    "\n",
    "with open('DT.pickle', 'rb') as f:\n",
    "    dt_best,roc_index_dt_cv, fpr_dt_cv, tpr_dt_cv = pickle.load(f)\n",
    "\n",
    "print(dt_best.best_params_)"
   ]
  },
  {
   "cell_type": "code",
   "execution_count": 19,
   "metadata": {
    "scrolled": true
   },
   "outputs": [
    {
     "name": "stdout",
     "output_type": "stream",
     "text": [
      "income_high : 0.3190086808955489\n",
      "worried : 0.14489318843032256\n",
      "weight : 0.07403931293755875\n",
      "age : 0.07141532375467496\n",
      "contacts_count : 0.0701721943066074\n",
      "height : 0.06365856898085374\n",
      "income_med : 0.05285158373270131\n",
      "insurance : 0.04962797337956081\n",
      "race_white : 0.03916274478461132\n",
      "working_stopped : 0.026257804281694396\n",
      "alcohol : 0.013346374482412344\n",
      "house_count : 0.01250734715415805\n",
      "working_home : 0.010649728585312861\n",
      "gender_male : 0.0067795748746737345\n",
      "working_never : 0.0060478784415858005\n",
      "race_other : 0.0054792149227313475\n",
      "smoking_vape : 0.005292993252627642\n",
      "race_mixed : 0.005002189747321963\n",
      "working_travel critical : 0.00488793321438116\n",
      "immigrant : 0.004866216157885805\n"
     ]
    }
   ],
   "source": [
    "def analyse_feature_importance(dm_model, feature_names, n_to_display=20):\n",
    "    # grab feature importances from the model\n",
    "    importances = dm_model.feature_importances_\n",
    "    \n",
    "    # print(importances)\n",
    "    \n",
    "    \n",
    "    # sort them out in descending order\n",
    "    indices = np.argsort(importances)\n",
    "    indices = np.flip(indices, axis=0)\n",
    "\n",
    "    # limit to 20 features, you can leave this out to print out everything\n",
    "    indices = indices[:n_to_display]\n",
    "    \n",
    "    # print(indices)\n",
    "\n",
    "    for i in indices:\n",
    "        print(feature_names[i], ':', importances[i])\n",
    "        \n",
    "analyse_feature_importance(dt_best.best_estimator_, X.columns)"
   ]
  },
  {
   "cell_type": "code",
   "execution_count": 20,
   "metadata": {},
   "outputs": [
    {
     "name": "stdout",
     "output_type": "stream",
     "text": [
      "(4277, 9)\n"
     ]
    }
   ],
   "source": [
    "from sklearn.feature_selection import SelectFromModel\n",
    "\n",
    "selectmodel = SelectFromModel(dt_best.best_estimator_, prefit=True)\n",
    "X_train_sel_model = selectmodel.transform(X_train)\n",
    "X_test_sel_model = selectmodel.transform(X_test)\n",
    "\n",
    "print(X_train_sel_model.shape)"
   ]
  },
  {
   "cell_type": "code",
   "execution_count": 21,
   "metadata": {},
   "outputs": [
    {
     "name": "stdout",
     "output_type": "stream",
     "text": [
      "Train accuracy: 0.71779284545242\n",
      "Test accuracy: 0.7163120567375887\n",
      "              precision    recall  f1-score   support\n",
      "\n",
      "           0       0.75      0.77      0.76      1070\n",
      "           1       0.67      0.63      0.65       763\n",
      "\n",
      "    accuracy                           0.72      1833\n",
      "   macro avg       0.71      0.70      0.71      1833\n",
      "weighted avg       0.71      0.72      0.72      1833\n",
      "\n",
      "{'alpha': 0.01, 'hidden_layer_sizes': (9,)}\n"
     ]
    },
    {
     "name": "stderr",
     "output_type": "stream",
     "text": [
      "C:\\Users\\tamag\\Anaconda3\\lib\\site-packages\\sklearn\\neural_network\\_multilayer_perceptron.py:696: ConvergenceWarning: Stochastic Optimizer: Maximum iterations (200) reached and the optimization hasn't converged yet.\n",
      "  ConvergenceWarning,\n"
     ]
    }
   ],
   "source": [
    "params = {'hidden_layer_sizes': [(3,), (5,), (7,), (9,)], \n",
    "          'alpha': [0.01,0.001, 0.0001, 0.00001]}\n",
    "\n",
    "cv_sel_model = GridSearchCV(\n",
    "    param_grid=params, \n",
    "    estimator=MLPClassifier(random_state=rs), \n",
    "    cv=10, n_jobs=-1)\n",
    "cv_sel_model.fit(X_train_sel_model, y_train)\n",
    "\n",
    "print(\"Train accuracy:\", cv_sel_model.score(X_train_sel_model, y_train))\n",
    "print(\"Test accuracy:\", cv_sel_model.score(X_test_sel_model, y_test))\n",
    "\n",
    "y_pred = cv_sel_model.predict(X_test_sel_model)\n",
    "print(classification_report(y_test, y_pred))\n",
    "\n",
    "print(cv_sel_model.best_params_)"
   ]
  },
  {
   "cell_type": "code",
   "execution_count": 22,
   "metadata": {},
   "outputs": [
    {
     "data": {
      "text/plain": [
       "{'cv': 10,\n",
       " 'error_score': nan,\n",
       " 'estimator__activation': 'relu',\n",
       " 'estimator__alpha': 0.0001,\n",
       " 'estimator__batch_size': 'auto',\n",
       " 'estimator__beta_1': 0.9,\n",
       " 'estimator__beta_2': 0.999,\n",
       " 'estimator__early_stopping': False,\n",
       " 'estimator__epsilon': 1e-08,\n",
       " 'estimator__hidden_layer_sizes': (100,),\n",
       " 'estimator__learning_rate': 'constant',\n",
       " 'estimator__learning_rate_init': 0.001,\n",
       " 'estimator__max_fun': 15000,\n",
       " 'estimator__max_iter': 200,\n",
       " 'estimator__momentum': 0.9,\n",
       " 'estimator__n_iter_no_change': 10,\n",
       " 'estimator__nesterovs_momentum': True,\n",
       " 'estimator__power_t': 0.5,\n",
       " 'estimator__random_state': 10,\n",
       " 'estimator__shuffle': True,\n",
       " 'estimator__solver': 'adam',\n",
       " 'estimator__tol': 0.0001,\n",
       " 'estimator__validation_fraction': 0.1,\n",
       " 'estimator__verbose': False,\n",
       " 'estimator__warm_start': False,\n",
       " 'estimator': MLPClassifier(random_state=10),\n",
       " 'n_jobs': -1,\n",
       " 'param_grid': {'hidden_layer_sizes': [(3,), (5,), (7,), (9,)],\n",
       "  'alpha': [0.01, 0.001, 0.0001, 1e-05]},\n",
       " 'pre_dispatch': '2*n_jobs',\n",
       " 'refit': True,\n",
       " 'return_train_score': False,\n",
       " 'scoring': None,\n",
       " 'verbose': 0}"
      ]
     },
     "execution_count": 22,
     "metadata": {},
     "output_type": "execute_result"
    }
   ],
   "source": [
    "cv_sel_model.get_params()"
   ]
  },
  {
   "cell_type": "code",
   "execution_count": 23,
   "metadata": {},
   "outputs": [
    {
     "data": {
      "text/plain": [
       "MLPClassifier(alpha=0.01, hidden_layer_sizes=(9,), random_state=10)"
      ]
     },
     "execution_count": 23,
     "metadata": {},
     "output_type": "execute_result"
    }
   ],
   "source": [
    "cv_sel_model.best_estimator_"
   ]
  },
  {
   "cell_type": "code",
   "execution_count": 24,
   "metadata": {},
   "outputs": [
    {
     "data": {
      "text/plain": [
       "200"
      ]
     },
     "execution_count": 24,
     "metadata": {},
     "output_type": "execute_result"
    }
   ],
   "source": [
    "cv_sel_model_best = cv_sel_model.best_estimator_\n",
    "cv_sel_model_best.n_iter_"
   ]
  },
  {
   "cell_type": "markdown",
   "metadata": {},
   "source": [
    "## 5. ROC curve"
   ]
  },
  {
   "cell_type": "markdown",
   "metadata": {},
   "source": [
    "A total of seven models has been built:\n",
    "1. Default neural network (`model_1`)\n",
    "2. Neural network with relu (`model_2` -> `max_iter=700`)\n",
    "3. Neural network with relu (`model_3` -> `max_iter=150`)\n",
    "4. Neural network + grid search (`cv_1`)\n",
    "5. Neural network + grid search (`cv_2` -> `'hidden_layer_sizes': (9,)`)\n",
    "6. Neural network + grid search (`cv_3` -> `'alpla': 0.01` & `'hidden_layer_sizes': (9,)`)\n",
    "7. Neural network + feature selection using DT + grid search (`cv_sel_model`)\n",
    "    \n",
    "use ROC curve to compare these models to identify the best performing neural network model considering both true and false positives."
   ]
  },
  {
   "cell_type": "code",
   "execution_count": 25,
   "metadata": {},
   "outputs": [
    {
     "name": "stdout",
     "output_type": "stream",
     "text": [
      "ROC index on test for NN_default: 0.7401403706471013\n",
      "ROC index on test for NN with relu 1: 0.702618782229517\n",
      "ROC index on test for NN with relu 2: 0.7482465917859898\n",
      "ROC index on test for NN with gridsearch 1: 0.761058781739567\n",
      "ROC index on test for NN with gridsearch 2: 0.7721230754155387\n",
      "ROC index on test for NN with gridsearch 3: 0.7731764677061771\n",
      "ROC index on test for NN with feature selection (model selection) and gridsearch: 0.7650475863842923\n"
     ]
    }
   ],
   "source": [
    "from sklearn.metrics import roc_auc_score\n",
    "\n",
    "y_pred_proba_nn_1 = model_1.predict_proba(X_test)\n",
    "y_pred_proba_nn_2 = model_2.predict_proba(X_test)\n",
    "y_pred_proba_nn_3 = model_3.predict_proba(X_test)\n",
    "y_pred_proba_cv_1 = cv_1.predict_proba(X_test)\n",
    "y_pred_proba_cv_2 = cv_2.predict_proba(X_test)\n",
    "y_pred_proba_cv_3 = cv_3.predict_proba(X_test)\n",
    "y_pred_proba_cv_sel_model = cv_sel_model.predict_proba(X_test_sel_model)\n",
    "\n",
    "\n",
    "roc_index_nn_1 = roc_auc_score(y_test, y_pred_proba_nn_1[:, 1])\n",
    "roc_index_nn_2 = roc_auc_score(y_test, y_pred_proba_nn_2[:, 1])\n",
    "roc_index_nn_3 = roc_auc_score(y_test, y_pred_proba_nn_3[:, 1])\n",
    "roc_index_cv_1 = roc_auc_score(y_test, y_pred_proba_cv_1[:, 1])\n",
    "roc_index_cv_2 = roc_auc_score(y_test, y_pred_proba_cv_2[:, 1])\n",
    "roc_index_cv_3 = roc_auc_score(y_test, y_pred_proba_cv_3[:, 1])\n",
    "roc_index_cv_sel_model = roc_auc_score(y_test, y_pred_proba_cv_sel_model[:, 1])\n",
    "\n",
    "\n",
    "print(\"ROC index on test for NN_default:\", roc_index_nn_1)\n",
    "print(\"ROC index on test for NN with relu 1:\", roc_index_nn_2)\n",
    "print(\"ROC index on test for NN with relu 2:\", roc_index_nn_3)\n",
    "print(\"ROC index on test for NN with gridsearch 1:\", roc_index_cv_1)\n",
    "print(\"ROC index on test for NN with gridsearch 2:\", roc_index_cv_2)\n",
    "print(\"ROC index on test for NN with gridsearch 3:\", roc_index_cv_3)\n",
    "print(\"ROC index on test for NN with feature selection (model selection) and gridsearch:\", roc_index_cv_sel_model)\n",
    "\n",
    "from sklearn.metrics import roc_curve\n",
    "\n",
    "fpr_nn_1, tpr_nn_1, thresholds_nn_1 = roc_curve(y_test, y_pred_proba_nn_1[:,1])\n",
    "fpr_nn_2, tpr_nn_2, thresholds_nn_2 = roc_curve(y_test, y_pred_proba_nn_2[:,1])\n",
    "fpr_nn_3, tpr_nn_3, thresholds_nn_3 = roc_curve(y_test, y_pred_proba_nn_3[:,1])\n",
    "fpr_cv_1, tpr_cv_1, thresholds_cv_1 = roc_curve(y_test, y_pred_proba_cv_1[:,1])\n",
    "fpr_cv_2, tpr_cv_2, thresholds_cv_2 = roc_curve(y_test, y_pred_proba_cv_2[:,1])\n",
    "fpr_cv_3, tpr_cv_3, thresholds_cv_3 = roc_curve(y_test, y_pred_proba_cv_3[:,1])\n",
    "fpr_cv_sel_model, tpr_cv_sel_model, thresholds_cv_sel_model = roc_curve(y_test, y_pred_proba_cv_sel_model[:,1])"
   ]
  },
  {
   "cell_type": "code",
   "execution_count": 26,
   "metadata": {},
   "outputs": [
    {
     "data": {
      "image/png": "[encoded data removed]",
      "text/plain": [
       "<Figure size 432x288 with 1 Axes>"
      ]
     },
     "metadata": {
      "needs_background": "light"
     },
     "output_type": "display_data"
    }
   ],
   "source": [
    "import matplotlib.pyplot as plt\n",
    "\n",
    "plt.plot(fpr_nn_1, tpr_nn_1, label='NN_default {:.3f}'.format(roc_index_nn_1), color='red', lw=0.5)\n",
    "plt.plot(fpr_nn_2, tpr_nn_2, label='NN with relu {:.3f}'.format(roc_index_nn_2), color='green', lw=0.5)\n",
    "plt.plot(fpr_nn_3, tpr_nn_3, label='NN with relu {:.3f}'.format(roc_index_nn_3), color='purple', lw=0.5)\n",
    "plt.plot(fpr_cv_1, tpr_cv_1, label='NN cv_1 {:.3f}'.format(roc_index_cv_1), color='blue', lw=0.5)\n",
    "plt.plot(fpr_cv_2, tpr_cv_2, label='NN cv_2 {:.3f}'.format(roc_index_cv_2), color='yellow', lw=0.5)\n",
    "plt.plot(fpr_cv_3, tpr_cv_3, label='NN cv_3 {:.3f}'.format(roc_index_cv_3), color='cyan', lw=0.5)\n",
    "plt.plot(fpr_cv_sel_model, tpr_cv_sel_model, label='NN with cv_sel_model {:.3f}'.format(roc_index_cv_sel_model), color='black', lw=0.5)\n",
    "\n",
    "\n",
    "plt.plot([0, 1], [0, 1], color='navy', lw=0.5, linestyle='--')\n",
    "plt.xlim([0.0, 1.0])\n",
    "plt.ylim([0.0, 1.0])\n",
    "plt.xlabel('False Positive Rate')\n",
    "plt.ylabel('True Positive Rate')\n",
    "plt.title('Receiver operating characteristic example')\n",
    "plt.legend(loc=\"lower right\")\n",
    "plt.show()"
   ]
  },
  {
   "cell_type": "markdown",
   "metadata": {},
   "source": [
    "Based on the ROC curve, the neural network model(Neural network + grid search (`cv_3` -> `'alpla': 0.01` & `'hidden_layer_sizes': (9,)`)), with the ROC index of 0.773, performs marginally better than other models."
   ]
  },
  {
   "cell_type": "code",
   "execution_count": null,
   "metadata": {},
   "outputs": [],
   "source": []
  }
 ],
 "metadata": {
  "kernelspec": {
   "display_name": "Python 3",
   "language": "python",
   "name": "python3"
  },
  "language_info": {
   "codemirror_mode": {
    "name": "ipython",
    "version": 3
   },
   "file_extension": ".py",
   "mimetype": "text/x-python",
   "name": "python",
   "nbconvert_exporter": "python",
   "pygments_lexer": "ipython3",
   "version": "3.7.3"
  }
 },
 "nbformat": 4,
 "nbformat_minor": 5
}
